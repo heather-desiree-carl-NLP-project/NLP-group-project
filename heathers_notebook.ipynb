{
 "cells": [
  {
   "cell_type": "markdown",
   "id": "e8de2a37-dc6b-47a6-905c-11ea9c2e9ce3",
   "metadata": {},
   "source": [
    "# NLP Group Project \n",
    "## Heather's Notebook"
   ]
  },
  {
   "cell_type": "code",
   "execution_count": 91,
   "id": "7b9d547d-204f-456c-9218-bf0192f8ef90",
   "metadata": {},
   "outputs": [
    {
     "name": "stderr",
     "output_type": "stream",
     "text": [
      "[nltk_data] Downloading package stopwords to\n",
      "[nltk_data]     /Users/Heather/nltk_data...\n",
      "[nltk_data]   Package stopwords is already up-to-date!\n"
     ]
    }
   ],
   "source": [
    "import pandas as pd\n",
    "import numpy as np\n",
    "import unicodedata\n",
    "import re\n",
    "import nltk\n",
    "\n",
    "# imports for visualization\n",
    "import matplotlib.pyplot as plt\n",
    "import matplotlib as mpl\n",
    "from matplotlib import cm # for colormap tools\n",
    "import seaborn as sns\n",
    "from wordcloud import WordCloud\n",
    "\n",
    "# import modules \n",
    "import prepare as p\n",
    "import acquire as a\n",
    "\n",
    "# imports for NLP extraction\n",
    "from sklearn.feature_extraction.text import CountVectorizer, TfidfVectorizer\n",
    "from sklearn.feature_extraction.text import TfidfVectorizer\n",
    "\n",
    "# imports for modeling\n",
    "from sklearn.model_selection import train_test_split\n",
    "from sklearn.tree import DecisionTreeClassifier\n",
    "from sklearn.naive_bayes import MultinomialNB\n",
    "from sklearn.ensemble import RandomForestClassifier\n",
    "from sklearn.naive_bayes import MultinomialNB\n",
    "from sklearn.svm import LinearSVC\n",
    "from sklearn.metrics import classification_report, confusion_matrix, recall_score, plot_confusion_matrix\n",
    "\n",
    "\n",
    "plt.rc('figure', figsize=(13, 7))\n",
    "plt.rc('font', size=16)\n",
    "plt.style.use('seaborn-darkgrid')"
   ]
  },
  {
   "cell_type": "code",
   "execution_count": 87,
   "id": "90ffba35-8a1d-4004-b9d4-42e181f0ca64",
   "metadata": {},
   "outputs": [],
   "source": [
    "df = pd.read_json('data2.json')"
   ]
  },
  {
   "cell_type": "code",
   "execution_count": 88,
   "id": "70b023df-a23b-4a03-8eee-934f8209f9c9",
   "metadata": {},
   "outputs": [
    {
     "data": {
      "text/html": [
       "<div>\n",
       "<style scoped>\n",
       "    .dataframe tbody tr th:only-of-type {\n",
       "        vertical-align: middle;\n",
       "    }\n",
       "\n",
       "    .dataframe tbody tr th {\n",
       "        vertical-align: top;\n",
       "    }\n",
       "\n",
       "    .dataframe thead th {\n",
       "        text-align: right;\n",
       "    }\n",
       "</style>\n",
       "<table border=\"1\" class=\"dataframe\">\n",
       "  <thead>\n",
       "    <tr style=\"text-align: right;\">\n",
       "      <th></th>\n",
       "      <th>repo</th>\n",
       "      <th>language</th>\n",
       "      <th>readme_contents</th>\n",
       "    </tr>\n",
       "  </thead>\n",
       "  <tbody>\n",
       "    <tr>\n",
       "      <th>0</th>\n",
       "      <td>codingXiaxw/CustomerManagement</td>\n",
       "      <td>Java</td>\n",
       "      <td>## JavaWeb项目之客户管理系统 \\n\\n## 项目介绍\\n详细讲解请点击这里前往我的...</td>\n",
       "    </tr>\n",
       "    <tr>\n",
       "      <th>1</th>\n",
       "      <td>DanWahlin/CustomerManager</td>\n",
       "      <td>JavaScript</td>\n",
       "      <td>Customer Manager with AngularJS (with custom r...</td>\n",
       "    </tr>\n",
       "    <tr>\n",
       "      <th>2</th>\n",
       "      <td>Tophold/FinancialCustomerView</td>\n",
       "      <td>Java</td>\n",
       "      <td>## FinancialCustomerView\\n* 本项目会对金融交易软件中存在的各种V...</td>\n",
       "    </tr>\n",
       "    <tr>\n",
       "      <th>3</th>\n",
       "      <td>DanWahlin/CustomerManagerStandard</td>\n",
       "      <td>JavaScript</td>\n",
       "      <td>Customer Manager with AngularJS\\r\\n===========...</td>\n",
       "    </tr>\n",
       "    <tr>\n",
       "      <th>4</th>\n",
       "      <td>spring-cloud-samples/customers-stores</td>\n",
       "      <td>Java</td>\n",
       "      <td># REST based micro-services sample\\n\\n- Three ...</td>\n",
       "    </tr>\n",
       "  </tbody>\n",
       "</table>\n",
       "</div>"
      ],
      "text/plain": [
       "                                    repo    language  \\\n",
       "0         codingXiaxw/CustomerManagement        Java   \n",
       "1              DanWahlin/CustomerManager  JavaScript   \n",
       "2          Tophold/FinancialCustomerView        Java   \n",
       "3      DanWahlin/CustomerManagerStandard  JavaScript   \n",
       "4  spring-cloud-samples/customers-stores        Java   \n",
       "\n",
       "                                     readme_contents  \n",
       "0  ## JavaWeb项目之客户管理系统 \\n\\n## 项目介绍\\n详细讲解请点击这里前往我的...  \n",
       "1  Customer Manager with AngularJS (with custom r...  \n",
       "2  ## FinancialCustomerView\\n* 本项目会对金融交易软件中存在的各种V...  \n",
       "3  Customer Manager with AngularJS\\r\\n===========...  \n",
       "4  # REST based micro-services sample\\n\\n- Three ...  "
      ]
     },
     "execution_count": 88,
     "metadata": {},
     "output_type": "execute_result"
    }
   ],
   "source": [
    "df.head()"
   ]
  },
  {
   "cell_type": "code",
   "execution_count": 89,
   "id": "5745359e-7205-4370-bf53-ac6165d80e45",
   "metadata": {},
   "outputs": [
    {
     "name": "stdout",
     "output_type": "stream",
     "text": [
      "<class 'pandas.core.frame.DataFrame'>\n",
      "RangeIndex: 194 entries, 0 to 193\n",
      "Data columns (total 3 columns):\n",
      " #   Column           Non-Null Count  Dtype \n",
      "---  ------           --------------  ----- \n",
      " 0   repo             194 non-null    object\n",
      " 1   language         187 non-null    object\n",
      " 2   readme_contents  194 non-null    object\n",
      "dtypes: object(3)\n",
      "memory usage: 4.7+ KB\n"
     ]
    }
   ],
   "source": [
    "df.info()"
   ]
  },
  {
   "cell_type": "code",
   "execution_count": 90,
   "id": "63b066b6-6bf4-412c-bfc1-34ea824c207b",
   "metadata": {},
   "outputs": [
    {
     "data": {
      "text/plain": [
       "PHP                 41\n",
       "Jupyter Notebook    32\n",
       "JavaScript          25\n",
       "Java                23\n",
       "Python              20\n",
       "C#                  12\n",
       "HTML                 4\n",
       "R                    4\n",
       "TypeScript           4\n",
       "Go                   3\n",
       "Ruby                 3\n",
       "Vue                  3\n",
       "CSS                  2\n",
       "HCL                  2\n",
       "PowerShell           2\n",
       "Dart                 2\n",
       "Shell                1\n",
       "ABAP                 1\n",
       "Scala                1\n",
       "Swift                1\n",
       "Objective-C          1\n",
       "Name: language, dtype: int64"
      ]
     },
     "execution_count": 90,
     "metadata": {},
     "output_type": "execute_result"
    }
   ],
   "source": [
    "df.language.value_counts()"
   ]
  },
  {
   "cell_type": "code",
   "execution_count": 93,
   "id": "22c3a4e1-b312-44b8-84d6-3e755f791398",
   "metadata": {},
   "outputs": [],
   "source": [
    "df = p.drop_unneeded_data(df)"
   ]
  },
  {
   "cell_type": "code",
   "execution_count": 95,
   "id": "5a0879e3-b256-4917-9981-d34562f0c3b3",
   "metadata": {},
   "outputs": [
    {
     "data": {
      "text/plain": [
       "<AxesSubplot:>"
      ]
     },
     "execution_count": 95,
     "metadata": {},
     "output_type": "execute_result"
    },
    {
     "data": {
      "image/png": "[encoded data removed]",
      "text/plain": [
       "<Figure size 936x504 with 1 Axes>"
      ]
     },
     "metadata": {},
     "output_type": "display_data"
    }
   ],
   "source": [
    "df.language.value_counts().sort_values(ascending = True).plot.barh()"
   ]
  },
  {
   "cell_type": "code",
   "execution_count": 96,
   "id": "cfdfc3a5-508b-48d3-8bbb-7701b7a598b5",
   "metadata": {},
   "outputs": [
    {
     "name": "stdout",
     "output_type": "stream",
     "text": [
      "<class 'pandas.core.frame.DataFrame'>\n",
      "RangeIndex: 106 entries, 0 to 105\n",
      "Data columns (total 3 columns):\n",
      " #   Column           Non-Null Count  Dtype \n",
      "---  ------           --------------  ----- \n",
      " 0   repo             106 non-null    object\n",
      " 1   language         106 non-null    object\n",
      " 2   readme_contents  106 non-null    object\n",
      "dtypes: object(3)\n",
      "memory usage: 2.6+ KB\n"
     ]
    }
   ],
   "source": [
    "df.info()"
   ]
  },
  {
   "cell_type": "markdown",
   "id": "3bdf608e-6ac9-453a-b8e5-6df40faa7f2a",
   "metadata": {},
   "source": [
    "### Explore Data"
   ]
  },
  {
   "cell_type": "code",
   "execution_count": 97,
   "id": "cf1e76f1-4209-43a1-be18-94cd203ca332",
   "metadata": {},
   "outputs": [],
   "source": [
    "df = p.prepare_nlp_data(df, content = 'readme_contents')"
   ]
  },
  {
   "cell_type": "code",
   "execution_count": 98,
   "id": "a3b4b1bf-5019-42af-bdbd-3c6876b760f2",
   "metadata": {},
   "outputs": [
    {
     "data": {
      "text/html": [
       "<div>\n",
       "<style scoped>\n",
       "    .dataframe tbody tr th:only-of-type {\n",
       "        vertical-align: middle;\n",
       "    }\n",
       "\n",
       "    .dataframe tbody tr th {\n",
       "        vertical-align: top;\n",
       "    }\n",
       "\n",
       "    .dataframe thead th {\n",
       "        text-align: right;\n",
       "    }\n",
       "</style>\n",
       "<table border=\"1\" class=\"dataframe\">\n",
       "  <thead>\n",
       "    <tr style=\"text-align: right;\">\n",
       "      <th></th>\n",
       "      <th>repo</th>\n",
       "      <th>language</th>\n",
       "      <th>readme_contents</th>\n",
       "      <th>clean</th>\n",
       "      <th>stemmed</th>\n",
       "      <th>lemmatized</th>\n",
       "    </tr>\n",
       "  </thead>\n",
       "  <tbody>\n",
       "    <tr>\n",
       "      <th>0</th>\n",
       "      <td>DanWahlin/CustomerManager</td>\n",
       "      <td>JavaScript</td>\n",
       "      <td>Customer Manager with AngularJS (with custom r...</td>\n",
       "      <td>customer manager angularjs custom routing dyna...</td>\n",
       "      <td>custom manag angularj custom rout dynam contro...</td>\n",
       "      <td>customer manager angularjs custom routing dyna...</td>\n",
       "    </tr>\n",
       "    <tr>\n",
       "      <th>1</th>\n",
       "      <td>DanWahlin/CustomerManagerStandard</td>\n",
       "      <td>JavaScript</td>\n",
       "      <td>Customer Manager with AngularJS\\r\\n===========...</td>\n",
       "      <td>customer manager angularjs youre new angularjs...</td>\n",
       "      <td>custom manag angularj your new angularj check ...</td>\n",
       "      <td>customer manager angularjs youre new angularjs...</td>\n",
       "    </tr>\n",
       "    <tr>\n",
       "      <th>2</th>\n",
       "      <td>spring-cloud-samples/customers-stores</td>\n",
       "      <td>Java</td>\n",
       "      <td># REST based micro-services sample\\n\\n- Three ...</td>\n",
       "      <td>rest based microservices sample three spring b...</td>\n",
       "      <td>rest base microservic sampl three spring boot ...</td>\n",
       "      <td>rest based microservices sample three spring b...</td>\n",
       "    </tr>\n",
       "    <tr>\n",
       "      <th>3</th>\n",
       "      <td>eventuate-tram/eventuate-tram-examples-custome...</td>\n",
       "      <td>Java</td>\n",
       "      <td># Eventuate Tram Customers and Orders\\n\\nThis ...</td>\n",
       "      <td>eventuate tram customers orders application de...</td>\n",
       "      <td>eventu tram custom order applic demonstr two k...</td>\n",
       "      <td>eventuate tram customer order application demo...</td>\n",
       "    </tr>\n",
       "    <tr>\n",
       "      <th>4</th>\n",
       "      <td>Featuretools/predict-customer-churn</td>\n",
       "      <td>Jupyter Notebook</td>\n",
       "      <td># A Machine Learning Framework with an Applica...</td>\n",
       "      <td>machine learning framework application predict...</td>\n",
       "      <td>machin learn framework applic predict custom c...</td>\n",
       "      <td>machine learning framework application predict...</td>\n",
       "    </tr>\n",
       "  </tbody>\n",
       "</table>\n",
       "</div>"
      ],
      "text/plain": [
       "                                                repo          language  \\\n",
       "0                          DanWahlin/CustomerManager        JavaScript   \n",
       "1                  DanWahlin/CustomerManagerStandard        JavaScript   \n",
       "2              spring-cloud-samples/customers-stores              Java   \n",
       "3  eventuate-tram/eventuate-tram-examples-custome...              Java   \n",
       "4                Featuretools/predict-customer-churn  Jupyter Notebook   \n",
       "\n",
       "                                     readme_contents  \\\n",
       "0  Customer Manager with AngularJS (with custom r...   \n",
       "1  Customer Manager with AngularJS\\r\\n===========...   \n",
       "2  # REST based micro-services sample\\n\\n- Three ...   \n",
       "3  # Eventuate Tram Customers and Orders\\n\\nThis ...   \n",
       "4  # A Machine Learning Framework with an Applica...   \n",
       "\n",
       "                                               clean  \\\n",
       "0  customer manager angularjs custom routing dyna...   \n",
       "1  customer manager angularjs youre new angularjs...   \n",
       "2  rest based microservices sample three spring b...   \n",
       "3  eventuate tram customers orders application de...   \n",
       "4  machine learning framework application predict...   \n",
       "\n",
       "                                             stemmed  \\\n",
       "0  custom manag angularj custom rout dynam contro...   \n",
       "1  custom manag angularj your new angularj check ...   \n",
       "2  rest base microservic sampl three spring boot ...   \n",
       "3  eventu tram custom order applic demonstr two k...   \n",
       "4  machin learn framework applic predict custom c...   \n",
       "\n",
       "                                          lemmatized  \n",
       "0  customer manager angularjs custom routing dyna...  \n",
       "1  customer manager angularjs youre new angularjs...  \n",
       "2  rest based microservices sample three spring b...  \n",
       "3  eventuate tram customer order application demo...  \n",
       "4  machine learning framework application predict...  "
      ]
     },
     "execution_count": 98,
     "metadata": {},
     "output_type": "execute_result"
    }
   ],
   "source": [
    "df.head()"
   ]
  },
  {
   "cell_type": "code",
   "execution_count": null,
   "id": "73dcef17-f6e6-4977-8f0b-b2cf8d9fcf9e",
   "metadata": {},
   "outputs": [],
   "source": []
  }
 ],
 "metadata": {
  "kernelspec": {
   "display_name": "Python 3",
   "language": "python",
   "name": "python3"
  },
  "language_info": {
   "codemirror_mode": {
    "name": "ipython",
    "version": 3
   },
   "file_extension": ".py",
   "mimetype": "text/x-python",
   "name": "python",
   "nbconvert_exporter": "python",
   "pygments_lexer": "ipython3",
   "version": "3.8.5"
  }
 },
 "nbformat": 4,
 "nbformat_minor": 5
}
