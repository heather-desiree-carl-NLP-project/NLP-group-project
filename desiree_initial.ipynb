{
 "cells": [
  {
   "cell_type": "markdown",
   "metadata": {},
   "source": [
    "# NLP Project: Scraping GitHub READMEs"
   ]
  },
  {
   "cell_type": "code",
   "execution_count": 1,
   "metadata": {},
   "outputs": [],
   "source": [
    "import pandas as pd\n",
    "import re\n",
    "import requests\n",
    "from bs4 import BeautifulSoup\n",
    "\n",
    "import acquire\n",
    "\n",
    "import unicodedata\n",
    "import re\n",
    "import json\n",
    "\n",
    "import nltk\n",
    "from nltk.tokenize.toktok import ToktokTokenizer\n",
    "from nltk.corpus import stopwords\n",
    "\n",
    "import acquire\n",
    "import prepare as p"
   ]
  },
  {
   "cell_type": "markdown",
   "metadata": {},
   "source": [
    "### Wrangle Functions\n",
    "- Make sure they work"
   ]
  },
  {
   "cell_type": "code",
   "execution_count": 2,
   "metadata": {},
   "outputs": [],
   "source": [
    "string = ['Hello welcome to Legoland',\n",
    "          'He is from China but prefers Mexican enchiladas',\n",
    "          \"Peabo hasn't taken a bath in 10 days\",\n",
    "          \"I don't recall ever having gone to Europe\",\n",
    "         \"Potato thy fine fruit! You are quite the delicious\"]"
   ]
  },
  {
   "cell_type": "code",
   "execution_count": 3,
   "metadata": {},
   "outputs": [
    {
     "data": {
      "text/html": [
       "<div>\n",
       "<style scoped>\n",
       "    .dataframe tbody tr th:only-of-type {\n",
       "        vertical-align: middle;\n",
       "    }\n",
       "\n",
       "    .dataframe tbody tr th {\n",
       "        vertical-align: top;\n",
       "    }\n",
       "\n",
       "    .dataframe thead th {\n",
       "        text-align: right;\n",
       "    }\n",
       "</style>\n",
       "<table border=\"1\" class=\"dataframe\">\n",
       "  <thead>\n",
       "    <tr style=\"text-align: right;\">\n",
       "      <th></th>\n",
       "      <th>string</th>\n",
       "    </tr>\n",
       "  </thead>\n",
       "  <tbody>\n",
       "    <tr>\n",
       "      <th>0</th>\n",
       "      <td>Hello welcome to Legoland</td>\n",
       "    </tr>\n",
       "    <tr>\n",
       "      <th>1</th>\n",
       "      <td>He is from China but prefers Mexican enchiladas</td>\n",
       "    </tr>\n",
       "    <tr>\n",
       "      <th>2</th>\n",
       "      <td>Peabo hasn't taken a bath in 10 days</td>\n",
       "    </tr>\n",
       "    <tr>\n",
       "      <th>3</th>\n",
       "      <td>I don't recall ever having gone to Europe</td>\n",
       "    </tr>\n",
       "    <tr>\n",
       "      <th>4</th>\n",
       "      <td>Potato thy fine fruit! You are quite the delic...</td>\n",
       "    </tr>\n",
       "  </tbody>\n",
       "</table>\n",
       "</div>"
      ],
      "text/plain": [
       "                                              string\n",
       "0                          Hello welcome to Legoland\n",
       "1    He is from China but prefers Mexican enchiladas\n",
       "2               Peabo hasn't taken a bath in 10 days\n",
       "3          I don't recall ever having gone to Europe\n",
       "4  Potato thy fine fruit! You are quite the delic..."
      ]
     },
     "execution_count": 3,
     "metadata": {},
     "output_type": "execute_result"
    }
   ],
   "source": [
    "df = pd.DataFrame(data=string, columns=['string'])\n",
    "df"
   ]
  },
  {
   "cell_type": "code",
   "execution_count": 4,
   "metadata": {},
   "outputs": [
    {
     "data": {
      "text/html": [
       "<div>\n",
       "<style scoped>\n",
       "    .dataframe tbody tr th:only-of-type {\n",
       "        vertical-align: middle;\n",
       "    }\n",
       "\n",
       "    .dataframe tbody tr th {\n",
       "        vertical-align: top;\n",
       "    }\n",
       "\n",
       "    .dataframe thead th {\n",
       "        text-align: right;\n",
       "    }\n",
       "</style>\n",
       "<table border=\"1\" class=\"dataframe\">\n",
       "  <thead>\n",
       "    <tr style=\"text-align: right;\">\n",
       "      <th></th>\n",
       "      <th>string</th>\n",
       "      <th>clean</th>\n",
       "      <th>stemmed</th>\n",
       "      <th>lemmatized</th>\n",
       "    </tr>\n",
       "  </thead>\n",
       "  <tbody>\n",
       "    <tr>\n",
       "      <th>0</th>\n",
       "      <td>Hello welcome to Legoland</td>\n",
       "      <td>hello welcome legoland</td>\n",
       "      <td>hello welcom legoland</td>\n",
       "      <td>hello welcome legoland</td>\n",
       "    </tr>\n",
       "    <tr>\n",
       "      <th>1</th>\n",
       "      <td>He is from China but prefers Mexican enchiladas</td>\n",
       "      <td>china prefers mexican enchiladas</td>\n",
       "      <td>china prefer mexican enchilada</td>\n",
       "      <td>china prefers mexican enchilada</td>\n",
       "    </tr>\n",
       "    <tr>\n",
       "      <th>2</th>\n",
       "      <td>Peabo hasn't taken a bath in 10 days</td>\n",
       "      <td>peabo hasnt taken bath 10 days</td>\n",
       "      <td>peabo hasnt taken bath 10 day</td>\n",
       "      <td>peabo hasnt taken bath 10 day</td>\n",
       "    </tr>\n",
       "    <tr>\n",
       "      <th>3</th>\n",
       "      <td>I don't recall ever having gone to Europe</td>\n",
       "      <td>dont recall ever gone europe</td>\n",
       "      <td>dont recal ever gone europ</td>\n",
       "      <td>dont recall ever gone europe</td>\n",
       "    </tr>\n",
       "    <tr>\n",
       "      <th>4</th>\n",
       "      <td>Potato thy fine fruit! You are quite the delic...</td>\n",
       "      <td>potato thy fine fruit quite delicious</td>\n",
       "      <td>potato thi fine fruit quit delici</td>\n",
       "      <td>potato thy fine fruit quite delicious</td>\n",
       "    </tr>\n",
       "  </tbody>\n",
       "</table>\n",
       "</div>"
      ],
      "text/plain": [
       "                                              string  \\\n",
       "0                          Hello welcome to Legoland   \n",
       "1    He is from China but prefers Mexican enchiladas   \n",
       "2               Peabo hasn't taken a bath in 10 days   \n",
       "3          I don't recall ever having gone to Europe   \n",
       "4  Potato thy fine fruit! You are quite the delic...   \n",
       "\n",
       "                                   clean                            stemmed  \\\n",
       "0                 hello welcome legoland              hello welcom legoland   \n",
       "1       china prefers mexican enchiladas     china prefer mexican enchilada   \n",
       "2         peabo hasnt taken bath 10 days      peabo hasnt taken bath 10 day   \n",
       "3           dont recall ever gone europe         dont recal ever gone europ   \n",
       "4  potato thy fine fruit quite delicious  potato thi fine fruit quit delici   \n",
       "\n",
       "                              lemmatized  \n",
       "0                 hello welcome legoland  \n",
       "1        china prefers mexican enchilada  \n",
       "2          peabo hasnt taken bath 10 day  \n",
       "3           dont recall ever gone europe  \n",
       "4  potato thy fine fruit quite delicious  "
      ]
     },
     "execution_count": 4,
     "metadata": {},
     "output_type": "execute_result"
    }
   ],
   "source": [
    "p.prepare_nlp_data(df, content = 'string', extra_words=[], exclude_words=[])"
   ]
  },
  {
   "cell_type": "code",
   "execution_count": 5,
   "metadata": {},
   "outputs": [],
   "source": [
    "# bring it scraped json file\n",
    "df = pd.read_json('data2.json')"
   ]
  },
  {
   "cell_type": "code",
   "execution_count": 6,
   "metadata": {},
   "outputs": [
    {
     "data": {
      "text/html": [
       "<div>\n",
       "<style scoped>\n",
       "    .dataframe tbody tr th:only-of-type {\n",
       "        vertical-align: middle;\n",
       "    }\n",
       "\n",
       "    .dataframe tbody tr th {\n",
       "        vertical-align: top;\n",
       "    }\n",
       "\n",
       "    .dataframe thead th {\n",
       "        text-align: right;\n",
       "    }\n",
       "</style>\n",
       "<table border=\"1\" class=\"dataframe\">\n",
       "  <thead>\n",
       "    <tr style=\"text-align: right;\">\n",
       "      <th></th>\n",
       "      <th>repo</th>\n",
       "      <th>language</th>\n",
       "      <th>readme_contents</th>\n",
       "    </tr>\n",
       "  </thead>\n",
       "  <tbody>\n",
       "    <tr>\n",
       "      <th>0</th>\n",
       "      <td>codingXiaxw/CustomerManagement</td>\n",
       "      <td>Java</td>\n",
       "      <td>## JavaWeb项目之客户管理系统 \\n\\n## 项目介绍\\n详细讲解请点击这里前往我的...</td>\n",
       "    </tr>\n",
       "    <tr>\n",
       "      <th>1</th>\n",
       "      <td>DanWahlin/CustomerManager</td>\n",
       "      <td>JavaScript</td>\n",
       "      <td>Customer Manager with AngularJS (with custom r...</td>\n",
       "    </tr>\n",
       "    <tr>\n",
       "      <th>2</th>\n",
       "      <td>Tophold/FinancialCustomerView</td>\n",
       "      <td>Java</td>\n",
       "      <td>## FinancialCustomerView\\n* 本项目会对金融交易软件中存在的各种V...</td>\n",
       "    </tr>\n",
       "    <tr>\n",
       "      <th>3</th>\n",
       "      <td>DanWahlin/CustomerManagerStandard</td>\n",
       "      <td>JavaScript</td>\n",
       "      <td>Customer Manager with AngularJS\\r\\n===========...</td>\n",
       "    </tr>\n",
       "    <tr>\n",
       "      <th>4</th>\n",
       "      <td>spring-cloud-samples/customers-stores</td>\n",
       "      <td>Java</td>\n",
       "      <td># REST based micro-services sample\\n\\n- Three ...</td>\n",
       "    </tr>\n",
       "  </tbody>\n",
       "</table>\n",
       "</div>"
      ],
      "text/plain": [
       "                                    repo    language  \\\n",
       "0         codingXiaxw/CustomerManagement        Java   \n",
       "1              DanWahlin/CustomerManager  JavaScript   \n",
       "2          Tophold/FinancialCustomerView        Java   \n",
       "3      DanWahlin/CustomerManagerStandard  JavaScript   \n",
       "4  spring-cloud-samples/customers-stores        Java   \n",
       "\n",
       "                                     readme_contents  \n",
       "0  ## JavaWeb项目之客户管理系统 \\n\\n## 项目介绍\\n详细讲解请点击这里前往我的...  \n",
       "1  Customer Manager with AngularJS (with custom r...  \n",
       "2  ## FinancialCustomerView\\n* 本项目会对金融交易软件中存在的各种V...  \n",
       "3  Customer Manager with AngularJS\\r\\n===========...  \n",
       "4  # REST based micro-services sample\\n\\n- Three ...  "
      ]
     },
     "execution_count": 6,
     "metadata": {},
     "output_type": "execute_result"
    }
   ],
   "source": [
    "# some chinese repos we need to remove\n",
    "df.head()"
   ]
  },
  {
   "cell_type": "code",
   "execution_count": 7,
   "metadata": {},
   "outputs": [
    {
     "data": {
      "text/plain": [
       "(194, 3)"
      ]
     },
     "execution_count": 7,
     "metadata": {},
     "output_type": "execute_result"
    }
   ],
   "source": [
    "df.shape"
   ]
  },
  {
   "cell_type": "code",
   "execution_count": 8,
   "metadata": {},
   "outputs": [],
   "source": [
    "# do drop unneeded data first then prep\n",
    "df = p.drop_unneeded_data(df)"
   ]
  },
  {
   "cell_type": "code",
   "execution_count": 9,
   "metadata": {},
   "outputs": [
    {
     "data": {
      "text/html": [
       "<div>\n",
       "<style scoped>\n",
       "    .dataframe tbody tr th:only-of-type {\n",
       "        vertical-align: middle;\n",
       "    }\n",
       "\n",
       "    .dataframe tbody tr th {\n",
       "        vertical-align: top;\n",
       "    }\n",
       "\n",
       "    .dataframe thead th {\n",
       "        text-align: right;\n",
       "    }\n",
       "</style>\n",
       "<table border=\"1\" class=\"dataframe\">\n",
       "  <thead>\n",
       "    <tr style=\"text-align: right;\">\n",
       "      <th></th>\n",
       "      <th>repo</th>\n",
       "      <th>language</th>\n",
       "      <th>readme_contents</th>\n",
       "    </tr>\n",
       "  </thead>\n",
       "  <tbody>\n",
       "    <tr>\n",
       "      <th>0</th>\n",
       "      <td>DanWahlin/CustomerManager</td>\n",
       "      <td>JavaScript</td>\n",
       "      <td>Customer Manager with AngularJS (with custom r...</td>\n",
       "    </tr>\n",
       "    <tr>\n",
       "      <th>1</th>\n",
       "      <td>DanWahlin/CustomerManagerStandard</td>\n",
       "      <td>JavaScript</td>\n",
       "      <td>Customer Manager with AngularJS\\r\\n===========...</td>\n",
       "    </tr>\n",
       "    <tr>\n",
       "      <th>2</th>\n",
       "      <td>spring-cloud-samples/customers-stores</td>\n",
       "      <td>Java</td>\n",
       "      <td># REST based micro-services sample\\n\\n- Three ...</td>\n",
       "    </tr>\n",
       "    <tr>\n",
       "      <th>3</th>\n",
       "      <td>eventuate-tram/eventuate-tram-examples-custome...</td>\n",
       "      <td>Java</td>\n",
       "      <td># Eventuate Tram Customers and Orders\\n\\nThis ...</td>\n",
       "    </tr>\n",
       "    <tr>\n",
       "      <th>4</th>\n",
       "      <td>Featuretools/predict-customer-churn</td>\n",
       "      <td>Jupyter Notebook</td>\n",
       "      <td># A Machine Learning Framework with an Applica...</td>\n",
       "    </tr>\n",
       "  </tbody>\n",
       "</table>\n",
       "</div>"
      ],
      "text/plain": [
       "                                                repo          language  \\\n",
       "0                          DanWahlin/CustomerManager        JavaScript   \n",
       "1                  DanWahlin/CustomerManagerStandard        JavaScript   \n",
       "2              spring-cloud-samples/customers-stores              Java   \n",
       "3  eventuate-tram/eventuate-tram-examples-custome...              Java   \n",
       "4                Featuretools/predict-customer-churn  Jupyter Notebook   \n",
       "\n",
       "                                     readme_contents  \n",
       "0  Customer Manager with AngularJS (with custom r...  \n",
       "1  Customer Manager with AngularJS\\r\\n===========...  \n",
       "2  # REST based micro-services sample\\n\\n- Three ...  \n",
       "3  # Eventuate Tram Customers and Orders\\n\\nThis ...  \n",
       "4  # A Machine Learning Framework with an Applica...  "
      ]
     },
     "execution_count": 9,
     "metadata": {},
     "output_type": "execute_result"
    }
   ],
   "source": [
    "df.head()"
   ]
  },
  {
   "cell_type": "code",
   "execution_count": 13,
   "metadata": {},
   "outputs": [],
   "source": [
    "df = p.prepare_nlp_data(df, content = 'readme_contents', extra_words=['customer', 'customers'], exclude_words=[])"
   ]
  },
  {
   "cell_type": "code",
   "execution_count": 14,
   "metadata": {},
   "outputs": [
    {
     "data": {
      "text/html": [
       "<div>\n",
       "<style scoped>\n",
       "    .dataframe tbody tr th:only-of-type {\n",
       "        vertical-align: middle;\n",
       "    }\n",
       "\n",
       "    .dataframe tbody tr th {\n",
       "        vertical-align: top;\n",
       "    }\n",
       "\n",
       "    .dataframe thead th {\n",
       "        text-align: right;\n",
       "    }\n",
       "</style>\n",
       "<table border=\"1\" class=\"dataframe\">\n",
       "  <thead>\n",
       "    <tr style=\"text-align: right;\">\n",
       "      <th></th>\n",
       "      <th>repo</th>\n",
       "      <th>language</th>\n",
       "      <th>readme_contents</th>\n",
       "      <th>clean</th>\n",
       "      <th>stemmed</th>\n",
       "      <th>lemmatized</th>\n",
       "    </tr>\n",
       "  </thead>\n",
       "  <tbody>\n",
       "    <tr>\n",
       "      <th>0</th>\n",
       "      <td>DanWahlin/CustomerManager</td>\n",
       "      <td>JavaScript</td>\n",
       "      <td>Customer Manager with AngularJS (with custom r...</td>\n",
       "      <td>manager angularjs custom routing dynamic contr...</td>\n",
       "      <td>manag angularj custom rout dynam control scrip...</td>\n",
       "      <td>manager angularjs custom routing dynamic contr...</td>\n",
       "    </tr>\n",
       "    <tr>\n",
       "      <th>1</th>\n",
       "      <td>DanWahlin/CustomerManagerStandard</td>\n",
       "      <td>JavaScript</td>\n",
       "      <td>Customer Manager with AngularJS\\r\\n===========...</td>\n",
       "      <td>manager angularjs youre new angularjs check an...</td>\n",
       "      <td>manag angularj your new angularj check angular...</td>\n",
       "      <td>manager angularjs youre new angularjs check an...</td>\n",
       "    </tr>\n",
       "    <tr>\n",
       "      <th>2</th>\n",
       "      <td>spring-cloud-samples/customers-stores</td>\n",
       "      <td>Java</td>\n",
       "      <td># REST based micro-services sample\\n\\n- Three ...</td>\n",
       "      <td>rest based microservices sample three spring b...</td>\n",
       "      <td>rest base microservic sampl three spring boot ...</td>\n",
       "      <td>rest based microservices sample three spring b...</td>\n",
       "    </tr>\n",
       "    <tr>\n",
       "      <th>3</th>\n",
       "      <td>eventuate-tram/eventuate-tram-examples-custome...</td>\n",
       "      <td>Java</td>\n",
       "      <td># Eventuate Tram Customers and Orders\\n\\nThis ...</td>\n",
       "      <td>eventuate tram orders application demonstrates...</td>\n",
       "      <td>eventu tram order applic demonstr two key patt...</td>\n",
       "      <td>eventuate tram order application demonstrates ...</td>\n",
       "    </tr>\n",
       "    <tr>\n",
       "      <th>4</th>\n",
       "      <td>Featuretools/predict-customer-churn</td>\n",
       "      <td>Jupyter Notebook</td>\n",
       "      <td># A Machine Learning Framework with an Applica...</td>\n",
       "      <td>machine learning framework application predict...</td>\n",
       "      <td>machin learn framework applic predict churn im...</td>\n",
       "      <td>machine learning framework application predict...</td>\n",
       "    </tr>\n",
       "  </tbody>\n",
       "</table>\n",
       "</div>"
      ],
      "text/plain": [
       "                                                repo          language  \\\n",
       "0                          DanWahlin/CustomerManager        JavaScript   \n",
       "1                  DanWahlin/CustomerManagerStandard        JavaScript   \n",
       "2              spring-cloud-samples/customers-stores              Java   \n",
       "3  eventuate-tram/eventuate-tram-examples-custome...              Java   \n",
       "4                Featuretools/predict-customer-churn  Jupyter Notebook   \n",
       "\n",
       "                                     readme_contents  \\\n",
       "0  Customer Manager with AngularJS (with custom r...   \n",
       "1  Customer Manager with AngularJS\\r\\n===========...   \n",
       "2  # REST based micro-services sample\\n\\n- Three ...   \n",
       "3  # Eventuate Tram Customers and Orders\\n\\nThis ...   \n",
       "4  # A Machine Learning Framework with an Applica...   \n",
       "\n",
       "                                               clean  \\\n",
       "0  manager angularjs custom routing dynamic contr...   \n",
       "1  manager angularjs youre new angularjs check an...   \n",
       "2  rest based microservices sample three spring b...   \n",
       "3  eventuate tram orders application demonstrates...   \n",
       "4  machine learning framework application predict...   \n",
       "\n",
       "                                             stemmed  \\\n",
       "0  manag angularj custom rout dynam control scrip...   \n",
       "1  manag angularj your new angularj check angular...   \n",
       "2  rest base microservic sampl three spring boot ...   \n",
       "3  eventu tram order applic demonstr two key patt...   \n",
       "4  machin learn framework applic predict churn im...   \n",
       "\n",
       "                                          lemmatized  \n",
       "0  manager angularjs custom routing dynamic contr...  \n",
       "1  manager angularjs youre new angularjs check an...  \n",
       "2  rest based microservices sample three spring b...  \n",
       "3  eventuate tram order application demonstrates ...  \n",
       "4  machine learning framework application predict...  "
      ]
     },
     "execution_count": 14,
     "metadata": {},
     "output_type": "execute_result"
    }
   ],
   "source": [
    "df.head()"
   ]
  },
  {
   "cell_type": "code",
   "execution_count": null,
   "metadata": {},
   "outputs": [],
   "source": []
  }
 ],
 "metadata": {
  "kernelspec": {
   "display_name": "Python 3",
   "language": "python",
   "name": "python3"
  },
  "language_info": {
   "codemirror_mode": {
    "name": "ipython",
    "version": 3
   },
   "file_extension": ".py",
   "mimetype": "text/x-python",
   "name": "python",
   "nbconvert_exporter": "python",
   "pygments_lexer": "ipython3",
   "version": "3.8.5"
  }
 },
 "nbformat": 4,
 "nbformat_minor": 4
}
