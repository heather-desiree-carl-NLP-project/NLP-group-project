{
 "cells": [
  {
   "cell_type": "markdown",
   "metadata": {},
   "source": [
    "# NLP Project: Scraping GitHub READMEs"
   ]
  },
  {
   "cell_type": "code",
   "execution_count": 5,
   "metadata": {},
   "outputs": [
    {
     "name": "stderr",
     "output_type": "stream",
     "text": [
      "[nltk_data] Downloading package stopwords to\n",
      "[nltk_data]     /Users/desireemcelroy/nltk_data...\n",
      "[nltk_data]   Package stopwords is already up-to-date!\n"
     ]
    }
   ],
   "source": [
    "import pandas as pd\n",
    "import re\n",
    "import requests\n",
    "from bs4 import BeautifulSoup\n",
    "\n",
    "import acquire\n",
    "\n",
    "import unicodedata\n",
    "import re\n",
    "import json\n",
    "\n",
    "import nltk\n",
    "from nltk.tokenize.toktok import ToktokTokenizer\n",
    "from nltk.corpus import stopwords\n",
    "\n",
    "import acquire\n",
    "import prepare"
   ]
  },
  {
   "cell_type": "markdown",
   "metadata": {},
   "source": [
    "### Wrangle Functions\n",
    "- Make sure they work"
   ]
  },
  {
   "cell_type": "code",
   "execution_count": 6,
   "metadata": {},
   "outputs": [],
   "source": [
    "string = ['Hello welcome to Legoland',\n",
    "          'He is from China but prefers Mexican enchiladas',\n",
    "          \"Peabo hasn't taken a bath in 10 days\",\n",
    "          \"I don't recall ever having gone to Europe\",\n",
    "         \"Potato thy fine fruit! You are quite the delicious\"]"
   ]
  },
  {
   "cell_type": "code",
   "execution_count": 7,
   "metadata": {},
   "outputs": [
    {
     "data": {
      "text/html": [
       "<div>\n",
       "<style scoped>\n",
       "    .dataframe tbody tr th:only-of-type {\n",
       "        vertical-align: middle;\n",
       "    }\n",
       "\n",
       "    .dataframe tbody tr th {\n",
       "        vertical-align: top;\n",
       "    }\n",
       "\n",
       "    .dataframe thead th {\n",
       "        text-align: right;\n",
       "    }\n",
       "</style>\n",
       "<table border=\"1\" class=\"dataframe\">\n",
       "  <thead>\n",
       "    <tr style=\"text-align: right;\">\n",
       "      <th></th>\n",
       "      <th>string</th>\n",
       "    </tr>\n",
       "  </thead>\n",
       "  <tbody>\n",
       "    <tr>\n",
       "      <th>0</th>\n",
       "      <td>Hello welcome to Legoland</td>\n",
       "    </tr>\n",
       "    <tr>\n",
       "      <th>1</th>\n",
       "      <td>He is from China but prefers Mexican enchiladas</td>\n",
       "    </tr>\n",
       "    <tr>\n",
       "      <th>2</th>\n",
       "      <td>Peabo hasn't taken a bath in 10 days</td>\n",
       "    </tr>\n",
       "    <tr>\n",
       "      <th>3</th>\n",
       "      <td>I don't recall ever having gone to Europe</td>\n",
       "    </tr>\n",
       "    <tr>\n",
       "      <th>4</th>\n",
       "      <td>Potato thy fine fruit! You are quite the delic...</td>\n",
       "    </tr>\n",
       "  </tbody>\n",
       "</table>\n",
       "</div>"
      ],
      "text/plain": [
       "                                              string\n",
       "0                          Hello welcome to Legoland\n",
       "1    He is from China but prefers Mexican enchiladas\n",
       "2               Peabo hasn't taken a bath in 10 days\n",
       "3          I don't recall ever having gone to Europe\n",
       "4  Potato thy fine fruit! You are quite the delic..."
      ]
     },
     "execution_count": 7,
     "metadata": {},
     "output_type": "execute_result"
    }
   ],
   "source": [
    "df = pd.DataFrame(data=string, columns=['string'])\n",
    "df"
   ]
  },
  {
   "cell_type": "code",
   "execution_count": 8,
   "metadata": {},
   "outputs": [
    {
     "data": {
      "text/html": [
       "<div>\n",
       "<style scoped>\n",
       "    .dataframe tbody tr th:only-of-type {\n",
       "        vertical-align: middle;\n",
       "    }\n",
       "\n",
       "    .dataframe tbody tr th {\n",
       "        vertical-align: top;\n",
       "    }\n",
       "\n",
       "    .dataframe thead th {\n",
       "        text-align: right;\n",
       "    }\n",
       "</style>\n",
       "<table border=\"1\" class=\"dataframe\">\n",
       "  <thead>\n",
       "    <tr style=\"text-align: right;\">\n",
       "      <th></th>\n",
       "      <th>string</th>\n",
       "      <th>clean</th>\n",
       "      <th>stemmed</th>\n",
       "      <th>lemmatized</th>\n",
       "    </tr>\n",
       "  </thead>\n",
       "  <tbody>\n",
       "    <tr>\n",
       "      <th>0</th>\n",
       "      <td>Hello welcome to Legoland</td>\n",
       "      <td>hello welcome legoland</td>\n",
       "      <td>hello welcom legoland</td>\n",
       "      <td>hello welcome legoland</td>\n",
       "    </tr>\n",
       "    <tr>\n",
       "      <th>1</th>\n",
       "      <td>He is from China but prefers Mexican enchiladas</td>\n",
       "      <td>china prefers mexican enchiladas</td>\n",
       "      <td>china prefer mexican enchilada</td>\n",
       "      <td>china prefers mexican enchilada</td>\n",
       "    </tr>\n",
       "    <tr>\n",
       "      <th>2</th>\n",
       "      <td>Peabo hasn't taken a bath in 10 days</td>\n",
       "      <td>peabo hasnt taken bath 10 days</td>\n",
       "      <td>peabo hasnt taken bath 10 day</td>\n",
       "      <td>peabo hasnt taken bath 10 day</td>\n",
       "    </tr>\n",
       "    <tr>\n",
       "      <th>3</th>\n",
       "      <td>I don't recall ever having gone to Europe</td>\n",
       "      <td>dont recall ever gone europe</td>\n",
       "      <td>dont recal ever gone europ</td>\n",
       "      <td>dont recall ever gone europe</td>\n",
       "    </tr>\n",
       "    <tr>\n",
       "      <th>4</th>\n",
       "      <td>Potato thy fine fruit! You are quite the delic...</td>\n",
       "      <td>potato thy fine fruit quite delicious</td>\n",
       "      <td>potato thi fine fruit quit delici</td>\n",
       "      <td>potato thy fine fruit quite delicious</td>\n",
       "    </tr>\n",
       "  </tbody>\n",
       "</table>\n",
       "</div>"
      ],
      "text/plain": [
       "                                              string  \\\n",
       "0                          Hello welcome to Legoland   \n",
       "1    He is from China but prefers Mexican enchiladas   \n",
       "2               Peabo hasn't taken a bath in 10 days   \n",
       "3          I don't recall ever having gone to Europe   \n",
       "4  Potato thy fine fruit! You are quite the delic...   \n",
       "\n",
       "                                   clean                            stemmed  \\\n",
       "0                 hello welcome legoland              hello welcom legoland   \n",
       "1       china prefers mexican enchiladas     china prefer mexican enchilada   \n",
       "2         peabo hasnt taken bath 10 days      peabo hasnt taken bath 10 day   \n",
       "3           dont recall ever gone europe         dont recal ever gone europ   \n",
       "4  potato thy fine fruit quite delicious  potato thi fine fruit quit delici   \n",
       "\n",
       "                              lemmatized  \n",
       "0                 hello welcome legoland  \n",
       "1        china prefers mexican enchilada  \n",
       "2          peabo hasnt taken bath 10 day  \n",
       "3           dont recall ever gone europe  \n",
       "4  potato thy fine fruit quite delicious  "
      ]
     },
     "execution_count": 8,
     "metadata": {},
     "output_type": "execute_result"
    }
   ],
   "source": [
    "prepare.prepare_nlp_data(df, content = 'string', extra_words=[], exclude_words=[])"
   ]
  },
  {
   "cell_type": "code",
   "execution_count": 14,
   "metadata": {},
   "outputs": [],
   "source": [
    "def is_chinese(texts):\n",
    "    if re.search(\"[\\u4e00-\\u9FFF]\", texts):\n",
    "        return True\n",
    "\n",
    "\n",
    "for i in df.string:\n",
    "    is_chinese(i)"
   ]
  },
  {
   "cell_type": "code",
   "execution_count": null,
   "metadata": {},
   "outputs": [],
   "source": []
  }
 ],
 "metadata": {
  "kernelspec": {
   "display_name": "Python 3",
   "language": "python",
   "name": "python3"
  },
  "language_info": {
   "codemirror_mode": {
    "name": "ipython",
    "version": 3
   },
   "file_extension": ".py",
   "mimetype": "text/x-python",
   "name": "python",
   "nbconvert_exporter": "python",
   "pygments_lexer": "ipython3",
   "version": "3.8.5"
  }
 },
 "nbformat": 4,
 "nbformat_minor": 4
}
