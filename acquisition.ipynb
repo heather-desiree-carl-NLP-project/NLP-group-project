{
 "cells": [
  {
   "cell_type": "code",
   "execution_count": 1,
   "metadata": {},
   "outputs": [],
   "source": [
    "import pandas as pd\n",
    "import re\n",
    "import requests\n",
    "from bs4 import BeautifulSoup"
   ]
  },
  {
   "cell_type": "code",
   "execution_count": 15,
   "metadata": {},
   "outputs": [],
   "source": [
    "url = 'https://github.com/trending?spoken_language_code=en'\n",
    "headers = {'User-Agent': 'baidu'} # Some websites don't accept the pyhon-requests default user-agent\n",
    "response = requests.get(url, headers=headers)"
   ]
  },
  {
   "cell_type": "code",
   "execution_count": 16,
   "metadata": {},
   "outputs": [],
   "source": [
    "soup = BeautifulSoup(response.text)"
   ]
  },
  {
   "cell_type": "code",
   "execution_count": 44,
   "metadata": {},
   "outputs": [],
   "source": [
    "repos = soup.find_all('article', class_='Box-row')"
   ]
  },
  {
   "cell_type": "code",
   "execution_count": 48,
   "metadata": {},
   "outputs": [
    {
     "name": "stdout",
     "output_type": "stream",
     "text": [
      "mvt-project/mvt\n",
      "Megvii-BaseDetection/YOLOX\n",
      "AmnestyTech/investigations\n",
      "flutter/flutter\n",
      "public-apis/public-apis\n",
      "jwasham/coding-interview-university\n",
      "microsoft/CBL-Mariner\n",
      "nocodb/nocodb\n",
      "tinode/chat\n",
      "blueedgetechno/windows11\n",
      "CryptoBlades/cryptoblades\n",
      "ventoy/Ventoy\n",
      "topotam/PetitPotam\n",
      "forem/selfhost\n",
      "LaravelDaily/Laravel-Roadmap-Learning-Path\n",
      "trekhleb/learn-python\n",
      "verymeticulous/wikAPEdia\n",
      "JuliaLang/julia\n",
      "zhenghaoz/gorse\n",
      "capt-meelo/Beaconator\n",
      "protocolbuffers/protobuf\n",
      "Ciphey/Ciphey\n",
      "Tencent/ncnn\n",
      "iluwatar/java-design-patterns\n",
      "infracost/infracost\n"
     ]
    }
   ],
   "source": [
    "for repo in repos:\n",
    "    repo_name = repo.find('h1', class_=\"h3 lh-condensed\").text.replace('\\n', '').replace(' ','')\n",
    "    print(repo_name)"
   ]
  },
  {
   "cell_type": "code",
   "execution_count": null,
   "metadata": {},
   "outputs": [],
   "source": []
  }
 ],
 "metadata": {
  "kernelspec": {
   "display_name": "Python 3",
   "language": "python",
   "name": "python3"
  },
  "language_info": {
   "codemirror_mode": {
    "name": "ipython",
    "version": 3
   },
   "file_extension": ".py",
   "mimetype": "text/x-python",
   "name": "python",
   "nbconvert_exporter": "python",
   "pygments_lexer": "ipython3",
   "version": "3.8.5"
  },
  "toc": {
   "base_numbering": 1,
   "nav_menu": {},
   "number_sections": true,
   "sideBar": true,
   "skip_h1_title": false,
   "title_cell": "Table of Contents",
   "title_sidebar": "Contents",
   "toc_cell": false,
   "toc_position": {},
   "toc_section_display": true,
   "toc_window_display": false
  }
 },
 "nbformat": 4,
 "nbformat_minor": 4
}
